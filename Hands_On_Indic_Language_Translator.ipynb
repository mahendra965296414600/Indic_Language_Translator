{
  "nbformat": 4,
  "nbformat_minor": 0,
  "metadata": {
    "colab": {
      "provenance": [],
      "collapsed_sections": [
        "H70yR5SLQCQi",
        "dkN8IJ90QHdF",
        "cybbo4K4QMq0",
        "zzIQWiGVQkCn",
        "_dUd4p0dRny2",
        "K7ZJrGP_Qya0"
      ]
    },
    "kernelspec": {
      "name": "python3",
      "display_name": "Python 3"
    },
    "language_info": {
      "name": "python"
    }
  },
  "cells": [
    {
      "cell_type": "markdown",
      "source": [
        "# **Language Translator**"
      ],
      "metadata": {
        "id": "H70yR5SLQCQi"
      }
    },
    {
      "cell_type": "markdown",
      "source": [
        "## **Google API**"
      ],
      "metadata": {
        "id": "dkN8IJ90QHdF"
      }
    },
    {
      "cell_type": "code",
      "execution_count": 7,
      "metadata": {
        "id": "9BL6rQWy3K3X",
        "colab": {
          "base_uri": "https://localhost:8080/"
        },
        "outputId": "5b035ace-3bf0-4d6b-9bb9-6903adaeb0d6"
      },
      "outputs": [
        {
          "output_type": "stream",
          "name": "stdout",
          "text": [
            "Requirement already satisfied: googletrans==3.1.0a in /usr/local/lib/python3.10/dist-packages (3.1.0a0)\n",
            "Requirement already satisfied: httpx==0.13.3 in /usr/local/lib/python3.10/dist-packages (from googletrans==3.1.0a) (0.13.3)\n",
            "Requirement already satisfied: certifi in /usr/local/lib/python3.10/dist-packages (from httpx==0.13.3->googletrans==3.1.0a) (2024.2.2)\n",
            "Requirement already satisfied: hstspreload in /usr/local/lib/python3.10/dist-packages (from httpx==0.13.3->googletrans==3.1.0a) (2024.2.1)\n",
            "Requirement already satisfied: sniffio in /usr/local/lib/python3.10/dist-packages (from httpx==0.13.3->googletrans==3.1.0a) (1.3.0)\n",
            "Requirement already satisfied: chardet==3.* in /usr/local/lib/python3.10/dist-packages (from httpx==0.13.3->googletrans==3.1.0a) (3.0.4)\n",
            "Requirement already satisfied: idna==2.* in /usr/local/lib/python3.10/dist-packages (from httpx==0.13.3->googletrans==3.1.0a) (2.10)\n",
            "Requirement already satisfied: rfc3986<2,>=1.3 in /usr/local/lib/python3.10/dist-packages (from httpx==0.13.3->googletrans==3.1.0a) (1.5.0)\n",
            "Requirement already satisfied: httpcore==0.9.* in /usr/local/lib/python3.10/dist-packages (from httpx==0.13.3->googletrans==3.1.0a) (0.9.1)\n",
            "Requirement already satisfied: h11<0.10,>=0.8 in /usr/local/lib/python3.10/dist-packages (from httpcore==0.9.*->httpx==0.13.3->googletrans==3.1.0a) (0.9.0)\n",
            "Requirement already satisfied: h2==3.* in /usr/local/lib/python3.10/dist-packages (from httpcore==0.9.*->httpx==0.13.3->googletrans==3.1.0a) (3.2.0)\n",
            "Requirement already satisfied: hyperframe<6,>=5.2.0 in /usr/local/lib/python3.10/dist-packages (from h2==3.*->httpcore==0.9.*->httpx==0.13.3->googletrans==3.1.0a) (5.2.0)\n",
            "Requirement already satisfied: hpack<4,>=3.0 in /usr/local/lib/python3.10/dist-packages (from h2==3.*->httpcore==0.9.*->httpx==0.13.3->googletrans==3.1.0a) (3.0.0)\n"
          ]
        }
      ],
      "source": [
        "!pip install googletrans==3.1.0a # Google Translate API -- Allows developers to integrate google's translation services into thier own application"
      ]
    },
    {
      "cell_type": "markdown",
      "source": [
        "## **Required Libraries**"
      ],
      "metadata": {
        "id": "cybbo4K4QMq0"
      }
    },
    {
      "cell_type": "code",
      "source": [
        "import googletrans\n",
        "\n",
        "from googletrans import Translator # Importing \"Translator\" module for language translation"
      ],
      "metadata": {
        "id": "p_U0duWn3wC3"
      },
      "execution_count": 2,
      "outputs": []
    },
    {
      "cell_type": "markdown",
      "source": [
        "## **View Available Languages and their Translation Code**"
      ],
      "metadata": {
        "id": "zzIQWiGVQkCn"
      }
    },
    {
      "cell_type": "code",
      "source": [
        "from googletrans import LANGUAGES\n",
        "\n",
        "languages = []\n",
        "\n",
        "for code, name in LANGUAGES.items():\n",
        "    languages.append({name:code})"
      ],
      "metadata": {
        "id": "EQF1AR0f4ajT"
      },
      "execution_count": 3,
      "outputs": []
    },
    {
      "cell_type": "code",
      "source": [
        "print(\"Languages and thier Codes below\\n\")\n",
        "languages"
      ],
      "metadata": {
        "id": "KD9yqbFpx7h3",
        "colab": {
          "base_uri": "https://localhost:8080/"
        },
        "outputId": "059f4ebf-9240-419a-b487-5b692e187acd"
      },
      "execution_count": 4,
      "outputs": [
        {
          "output_type": "stream",
          "name": "stdout",
          "text": [
            "Languages and thier Codes below\n",
            "\n"
          ]
        },
        {
          "output_type": "execute_result",
          "data": {
            "text/plain": [
              "[{'afrikaans': 'af'},\n",
              " {'albanian': 'sq'},\n",
              " {'amharic': 'am'},\n",
              " {'arabic': 'ar'},\n",
              " {'armenian': 'hy'},\n",
              " {'azerbaijani': 'az'},\n",
              " {'basque': 'eu'},\n",
              " {'belarusian': 'be'},\n",
              " {'bengali': 'bn'},\n",
              " {'bosnian': 'bs'},\n",
              " {'bulgarian': 'bg'},\n",
              " {'catalan': 'ca'},\n",
              " {'cebuano': 'ceb'},\n",
              " {'chichewa': 'ny'},\n",
              " {'chinese (simplified)': 'zh-cn'},\n",
              " {'chinese (traditional)': 'zh-tw'},\n",
              " {'corsican': 'co'},\n",
              " {'croatian': 'hr'},\n",
              " {'czech': 'cs'},\n",
              " {'danish': 'da'},\n",
              " {'dutch': 'nl'},\n",
              " {'english': 'en'},\n",
              " {'esperanto': 'eo'},\n",
              " {'estonian': 'et'},\n",
              " {'filipino': 'tl'},\n",
              " {'finnish': 'fi'},\n",
              " {'french': 'fr'},\n",
              " {'frisian': 'fy'},\n",
              " {'galician': 'gl'},\n",
              " {'georgian': 'ka'},\n",
              " {'german': 'de'},\n",
              " {'greek': 'el'},\n",
              " {'gujarati': 'gu'},\n",
              " {'haitian creole': 'ht'},\n",
              " {'hausa': 'ha'},\n",
              " {'hawaiian': 'haw'},\n",
              " {'hebrew': 'iw'},\n",
              " {'hebrew': 'he'},\n",
              " {'hindi': 'hi'},\n",
              " {'hmong': 'hmn'},\n",
              " {'hungarian': 'hu'},\n",
              " {'icelandic': 'is'},\n",
              " {'igbo': 'ig'},\n",
              " {'indonesian': 'id'},\n",
              " {'irish': 'ga'},\n",
              " {'italian': 'it'},\n",
              " {'japanese': 'ja'},\n",
              " {'javanese': 'jw'},\n",
              " {'kannada': 'kn'},\n",
              " {'kazakh': 'kk'},\n",
              " {'khmer': 'km'},\n",
              " {'korean': 'ko'},\n",
              " {'kurdish (kurmanji)': 'ku'},\n",
              " {'kyrgyz': 'ky'},\n",
              " {'lao': 'lo'},\n",
              " {'latin': 'la'},\n",
              " {'latvian': 'lv'},\n",
              " {'lithuanian': 'lt'},\n",
              " {'luxembourgish': 'lb'},\n",
              " {'macedonian': 'mk'},\n",
              " {'malagasy': 'mg'},\n",
              " {'malay': 'ms'},\n",
              " {'malayalam': 'ml'},\n",
              " {'maltese': 'mt'},\n",
              " {'maori': 'mi'},\n",
              " {'marathi': 'mr'},\n",
              " {'mongolian': 'mn'},\n",
              " {'myanmar (burmese)': 'my'},\n",
              " {'nepali': 'ne'},\n",
              " {'norwegian': 'no'},\n",
              " {'odia': 'or'},\n",
              " {'pashto': 'ps'},\n",
              " {'persian': 'fa'},\n",
              " {'polish': 'pl'},\n",
              " {'portuguese': 'pt'},\n",
              " {'punjabi': 'pa'},\n",
              " {'romanian': 'ro'},\n",
              " {'russian': 'ru'},\n",
              " {'samoan': 'sm'},\n",
              " {'scots gaelic': 'gd'},\n",
              " {'serbian': 'sr'},\n",
              " {'sesotho': 'st'},\n",
              " {'shona': 'sn'},\n",
              " {'sindhi': 'sd'},\n",
              " {'sinhala': 'si'},\n",
              " {'slovak': 'sk'},\n",
              " {'slovenian': 'sl'},\n",
              " {'somali': 'so'},\n",
              " {'spanish': 'es'},\n",
              " {'sundanese': 'su'},\n",
              " {'swahili': 'sw'},\n",
              " {'swedish': 'sv'},\n",
              " {'tajik': 'tg'},\n",
              " {'tamil': 'ta'},\n",
              " {'telugu': 'te'},\n",
              " {'thai': 'th'},\n",
              " {'turkish': 'tr'},\n",
              " {'ukrainian': 'uk'},\n",
              " {'urdu': 'ur'},\n",
              " {'uyghur': 'ug'},\n",
              " {'uzbek': 'uz'},\n",
              " {'vietnamese': 'vi'},\n",
              " {'welsh': 'cy'},\n",
              " {'xhosa': 'xh'},\n",
              " {'yiddish': 'yi'},\n",
              " {'yoruba': 'yo'},\n",
              " {'zulu': 'zu'}]"
            ]
          },
          "metadata": {},
          "execution_count": 4
        }
      ]
    },
    {
      "cell_type": "markdown",
      "source": [
        "## **Translation Process**"
      ],
      "metadata": {
        "id": "_dUd4p0dRny2"
      }
    },
    {
      "cell_type": "code",
      "source": [
        "import googletrans\n",
        "\n",
        "from googletrans import Translator\n",
        "\n",
        "user_text = input(\"Provided Text : \")\n",
        "\n",
        "target_language = \"te\"       # Give the needed language code , here \"Telugu\" Language code is given\n",
        "\n",
        "# Translator Object creation\n",
        "translator = Translator()\n",
        "\n",
        "# Translation process\n",
        "translated = translator.translate(user_text, dest=target_language)\n",
        "\n",
        "# Access the translated text\n",
        "translated_text = translated.text\n",
        "\n",
        "# Print the translated text\n",
        "print('\\nConverted Text :',translated_text)\n"
      ],
      "metadata": {
        "id": "dtQ06Idt41Cj",
        "colab": {
          "base_uri": "https://localhost:8080/"
        },
        "outputId": "b6c5039c-74a3-4b17-df8c-3802aa2adeaa"
      },
      "execution_count": 6,
      "outputs": [
        {
          "output_type": "stream",
          "name": "stdout",
          "text": [
            "Provided Text : the product is nice\n",
            "\n",
            "Converted Text : ఉత్పత్తి బాగుంది\n"
          ]
        }
      ]
    },
    {
      "cell_type": "markdown",
      "source": [
        "# **Question And Answering:**"
      ],
      "metadata": {
        "id": "K7ZJrGP_Qya0"
      }
    },
    {
      "cell_type": "markdown",
      "source": [
        "### **LEARN  [Click](https://docs.google.com/presentation/d/1qNg0MQmZAsQoCboXTff4qPvhx1-GLy_A/edit?usp=sharing&ouid=101321301050382286839&rtpof=true&sd=true)**"
      ],
      "metadata": {
        "id": "ls8XVW90RBNF"
      }
    }
  ]
}